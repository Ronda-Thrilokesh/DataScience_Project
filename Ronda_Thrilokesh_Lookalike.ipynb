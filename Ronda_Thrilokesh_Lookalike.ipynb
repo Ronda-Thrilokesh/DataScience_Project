{
 "cells": [
  {
   "cell_type": "code",
   "execution_count": 12,
   "id": "09d44880-fdd0-4ac8-bd8a-70b07d47fcd6",
   "metadata": {},
   "outputs": [],
   "source": [
    "import pandas as pd\n",
    "import numpy as np\n",
    "from sklearn.metrics.pairwise import cosine_similarity\n",
    "from sklearn.preprocessing import StandardScaler\n",
    "\n",
    "# Load Data\n",
    "Cust_df = pd.read_csv('C:/Users/LOKESH/OneDrive/Desktop/DATA SCIENCE ASSESMENT/Customers.csv')\n",
    "Prod_df = pd.read_csv('C:/Users/LOKESH/OneDrive/Desktop/DATA SCIENCE ASSESMENT/Products.csv')\n",
    "Trans_df = pd.read_csv('C:/Users/LOKESH/OneDrive/Desktop/DATA SCIENCE ASSESMENT/Transactions.csv')\n"
   ]
  },
  {
   "cell_type": "code",
   "execution_count": 13,
   "id": "c0e5780f-a4b6-416c-88f2-8fdad446f1f4",
   "metadata": {},
   "outputs": [],
   "source": [
    "# Data Preprocessing: Merge customer data with transaction data\n",
    "merged_df = pd.merge(Trans_df, Prod_df, on='ProductID')\n",
    "merged_df = pd.merge(merged_df, Cust_df, on='CustomerID')\n"
   ]
  },
  {
   "cell_type": "code",
   "execution_count": 14,
   "id": "46c2539e-66e2-4ecf-b785-6ee306490157",
   "metadata": {},
   "outputs": [],
   "source": [
    "# 1. Extract customer profile features\n",
    "Cust_df['SignupYear'] = pd.to_datetime(Cust_df['SignupDate']).dt.year\n",
    "Cust_df['YearsSinceSignup'] = 2025 - Cust_df['SignupYear']  # Assuming the current year is 2025\n",
    "\n",
    "# 2. Transaction history features: Total spending per category per customer\n",
    "transaction_features = merged_df.groupby(['CustomerID', 'Category'])['TotalValue'].sum().unstack(fill_value=0)\n",
    "\n",
    "# Normalize features\n",
    "scaler = StandardScaler()\n",
    "transaction_features_scaled = pd.DataFrame(scaler.fit_transform(transaction_features), columns=transaction_features.columns, index=transaction_features.index)\n",
    "\n",
    "# Merge customer profile and transaction features\n",
    "customer_profiles = pd.merge(Cust_df[['CustomerID', 'Region', 'YearsSinceSignup']], transaction_features_scaled, on='CustomerID')\n",
    "\n",
    "# Encode 'Region' as a numeric feature (one-hot encoding or label encoding)\n",
    "customer_profiles = pd.get_dummies(customer_profiles, columns=['Region'])\n",
    "\n",
    "# Create a feature matrix by combining customer profile and transaction history\n",
    "features = customer_profiles.drop(columns=['CustomerID'])\n",
    "\n",
    "# Calculate cosine similarity between customers\n",
    "similarity_matrix = cosine_similarity(features)\n",
    "\n",
    "# Create a DataFrame to hold the similarity scores for easier processing\n",
    "similarity_df = pd.DataFrame(similarity_matrix, index=customer_profiles['CustomerID'], columns=customer_profiles['CustomerID'])\n"
   ]
  },
  {
   "cell_type": "code",
   "execution_count": 15,
   "id": "0b014c3c-ba11-4180-8408-0b652068596e",
   "metadata": {},
   "outputs": [],
   "source": [
    "# Function to get top N similar customers\n",
    "def get_top_similar_customers(cust_id, n=3):\n",
    "    similarity_scores = similarity_df[cust_id].sort_values(ascending=False)\n",
    "    top_n_similar = similarity_scores[1:n+1]  # Exclude the customer itself (index 0)\n",
    "    return top_n_similar"
   ]
  },
  {
   "cell_type": "code",
   "execution_count": 16,
   "id": "d3b2c5fc-1425-4535-bfec-09855555e391",
   "metadata": {},
   "outputs": [],
   "source": [
    "# Get top 3 lookalikes for customers C0001 to C0020\n",
    "lookalike_recommendations = {}\n",
    "for cust_id in [f'C{i:04d}' for i in range(1, 21)]:\n",
    "    lookalike_recommendations[cust_id] = get_top_similar_customers(cust_id)\n"
   ]
  },
  {
   "cell_type": "code",
   "execution_count": 17,
   "id": "122f6c58-9466-4bec-b697-73095ed0f99b",
   "metadata": {},
   "outputs": [],
   "source": [
    "# Convert the results into a format suitable for export (cust_id, lookalike_id, score)\n",
    "lookalike_list = []\n",
    "for cust_id, similar_customers in lookalike_recommendations.items():\n",
    "    for similar_cust_id, score in similar_customers.items():\n",
    "        lookalike_list.append([cust_id, similar_cust_id, score])\n",
    "\n",
    "lookalike_df = pd.DataFrame(lookalike_list, columns=['CustomerID', 'LookalikeCustomerID', 'SimilarityScore'])"
   ]
  },
  {
   "cell_type": "code",
   "execution_count": 18,
   "id": "cb23f2e4-afa2-4635-8142-b42d1a97692b",
   "metadata": {},
   "outputs": [
    {
     "name": "stdout",
     "output_type": "stream",
     "text": [
      "Lookalike model recommendations saved to 'Lookalike.csv'.\n"
     ]
    }
   ],
   "source": [
    "# Save the recommendations to a CSV file\n",
    "lookalike_df.to_csv('C:/Users/LOKESH/OneDrive/Desktop/DATA SCIENCE ASSESMENT/Lookalike.csv', index=False)\n",
    "\n",
    "print(\"Lookalike model recommendations saved to 'Lookalike.csv'.\")"
   ]
  },
  {
   "cell_type": "code",
   "execution_count": null,
   "id": "2b0c64ce-910b-4af0-8fcf-4fa0c6a7b15e",
   "metadata": {},
   "outputs": [],
   "source": []
  }
 ],
 "metadata": {
  "kernelspec": {
   "display_name": "Python 3 (ipykernel)",
   "language": "python",
   "name": "python3"
  },
  "language_info": {
   "codemirror_mode": {
    "name": "ipython",
    "version": 3
   },
   "file_extension": ".py",
   "mimetype": "text/x-python",
   "name": "python",
   "nbconvert_exporter": "python",
   "pygments_lexer": "ipython3",
   "version": "3.13.1"
  }
 },
 "nbformat": 4,
 "nbformat_minor": 5
}
